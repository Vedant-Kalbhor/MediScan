{
 "cells": [
  {
   "cell_type": "code",
   "execution_count": 1,
   "metadata": {},
   "outputs": [],
   "source": [
    "import os \n",
    "import numpy as np\n",
    "from PIL import Image\n",
    "import matplotlib.pyplot as plt"
   ]
  },
  {
   "cell_type": "code",
   "execution_count": 2,
   "metadata": {},
   "outputs": [],
   "source": [
    "import torch \n",
    "import torch.nn as nn\n",
    "import torch.optim as optim\n",
    "from torch.utils.data import DataLoader,Dataset\n",
    "from torchvision import transforms,models"
   ]
  },
  {
   "cell_type": "code",
   "execution_count": 3,
   "metadata": {},
   "outputs": [],
   "source": [
    "class BrainTumorDataset(Dataset):\n",
    "    def __init__(self, data_dir, classes, transform=None):\n",
    "        self.data_dir = data_dir\n",
    "        self.classes = classes\n",
    "        self.transform = transform\n",
    "\n",
    "        # collect image paths and labels\n",
    "        self.image_paths = []\n",
    "        self.labels = []\n",
    "        for label, class_name in enumerate(classes):\n",
    "            class_dir = os.path.join(data_dir, class_name)\n",
    "            for file in os.listdir(class_dir):\n",
    "                if file.lower().endswith((\".jpg\", \".png\", \".jpeg\")):\n",
    "                    self.image_paths.append(os.path.join(class_dir, file))\n",
    "                    self.labels.append(label)\n",
    "\n",
    "    def __len__(self):\n",
    "        return len(self.image_paths)\n",
    "\n",
    "    def __getitem__(self, idx):\n",
    "        image_path = self.image_paths[idx]\n",
    "        label = self.labels[idx]\n",
    "\n",
    "        image = Image.open(image_path).convert(\"RGB\")\n",
    "\n",
    "        if self.transform:\n",
    "            image = self.transform(image)\n",
    "\n",
    "        return image, label\n"
   ]
  },
  {
   "cell_type": "code",
   "execution_count": 4,
   "metadata": {},
   "outputs": [],
   "source": [
    "classes=[\"glioma\",\"meningioma\",\"pituitary\",\"notumor\"]\n",
    "\n",
    "data_dir=\"./brain_dataset\"\n",
    "train_dir=os.path.join(data_dir,\"Training\")\n",
    "test_dir=os.path.join(data_dir,\"Testing\")\n",
    "\n"
   ]
  },
  {
   "cell_type": "code",
   "execution_count": 5,
   "metadata": {},
   "outputs": [
    {
     "name": "stdout",
     "output_type": "stream",
     "text": [
      "Using device: cuda\n"
     ]
    }
   ],
   "source": [
    "train_transform = transforms.Compose([\n",
    "    transforms.Resize((224, 224)),\n",
    "    transforms.RandomHorizontalFlip(),\n",
    "    transforms.RandomRotation(15),\n",
    "    transforms.ToTensor(),\n",
    "    transforms.Normalize(mean=[0.485,0.456,0.406],\n",
    "                         std=[0.229,0.224,0.225]),\n",
    "])\n",
    "val_transform = transforms.Compose([\n",
    "    transforms.Resize((224, 224)),\n",
    "    transforms.ToTensor(),\n",
    "    transforms.Normalize(mean=[0.485,0.456,0.406],\n",
    "                         std=[0.229,0.224,0.225]),\n",
    "])\n",
    "\n",
    "train_ds = BrainTumorDataset(train_dir, classes, transform=train_transform)\n",
    "test_ds = BrainTumorDataset(test_dir, classes, transform=val_transform)\n",
    "\n",
    "num_workers = os.cpu_count() \n",
    "\n",
    "train_loader = DataLoader(train_ds, batch_size=32, shuffle=True, num_workers=num_workers)\n",
    "test_loader = DataLoader(test_ds, batch_size=32, shuffle=False, num_workers=num_workers)\n",
    "\n",
    "device = torch.device(\"cuda\" if torch.cuda.is_available() else \"cpu\")\n",
    "print(\"Using device:\", device)"
   ]
  },
  {
   "cell_type": "code",
   "execution_count": 6,
   "metadata": {},
   "outputs": [
    {
     "name": "stderr",
     "output_type": "stream",
     "text": [
      "c:\\Users\\vedan\\.conda\\envs\\dl-gpu\\Lib\\site-packages\\torchvision\\models\\_utils.py:208: UserWarning: The parameter 'pretrained' is deprecated since 0.13 and may be removed in the future, please use 'weights' instead.\n",
      "  warnings.warn(\n",
      "c:\\Users\\vedan\\.conda\\envs\\dl-gpu\\Lib\\site-packages\\torchvision\\models\\_utils.py:223: UserWarning: Arguments other than a weight enum or `None` for 'weights' are deprecated since 0.13 and may be removed in the future. The current behavior is equivalent to passing `weights=ResNet18_Weights.IMAGENET1K_V1`. You can also use `weights=ResNet18_Weights.DEFAULT` to get the most up-to-date weights.\n",
      "  warnings.warn(msg)\n"
     ]
    }
   ],
   "source": [
    "model=models.resnet18(pretrained=True)\n",
    "num_ftrs=model.fc.in_features\n",
    "model.fc=nn.Linear(num_ftrs,len(classes))\n",
    "model=model.to(device)\n",
    "\n",
    "criterion = nn.CrossEntropyLoss()\n",
    "optimizer=optim.Adam(model.parameters(),lr=1e-4)\n",
    "scheduler=optim.lr_scheduler.ReduceLROnPlateau(optimizer,\"min\",patience=3)\n"
   ]
  },
  {
   "cell_type": "code",
   "execution_count": 7,
   "metadata": {},
   "outputs": [],
   "source": [
    "best_val_loss=float(\"inf\")\n",
    "num_epochs=10"
   ]
  },
  {
   "cell_type": "code",
   "execution_count": null,
   "metadata": {},
   "outputs": [
    {
     "name": "stderr",
     "output_type": "stream",
     "text": [
      "Epoch 1/10:   0%|          | 0/179 [00:00<?, ?batch/s]"
     ]
    }
   ],
   "source": [
    "from tqdm import tqdm  # install with `pip install tqdm`\n",
    "\n",
    "for epoch in range(num_epochs):\n",
    "    model.train()\n",
    "    running_loss = 0.0\n",
    "    running_corrects = 0\n",
    "\n",
    "    # Wrap train_loader with tqdm for progress bar\n",
    "    train_pbar = tqdm(train_loader, desc=f\"Epoch {epoch+1}/{num_epochs}\", unit=\"batch\")\n",
    "\n",
    "    for inputs, labels in train_pbar:\n",
    "        inputs = inputs.to(device)\n",
    "        labels = labels.to(device)\n",
    "        optimizer.zero_grad()\n",
    "        \n",
    "        outputs = model(inputs)\n",
    "        loss = criterion(outputs, labels)\n",
    "        loss.backward()\n",
    "        optimizer.step()\n",
    "\n",
    "        running_loss += loss.item() * inputs.size(0)\n",
    "        _, preds = torch.max(outputs, 1)\n",
    "        running_corrects += torch.sum(preds == labels)\n",
    "\n",
    "        # Update tqdm bar with current loss/acc\n",
    "        train_pbar.set_postfix({\n",
    "            \"loss\": loss.item(),\n",
    "            \"acc\": (running_corrects.double() / (len(train_pbar) * train_loader.batch_size)).item()\n",
    "        })\n",
    "\n",
    "    epoch_loss = running_loss / len(train_ds)\n",
    "    epoch_acc = running_corrects.double() / len(train_ds)\n",
    "\n",
    "    # Validation\n",
    "    model.eval()\n",
    "    val_loss = 0.0\n",
    "    val_corrects = 0\n",
    "\n",
    "    with torch.no_grad():\n",
    "        val_pbar = tqdm(test_loader, desc=\"Validating\", unit=\"batch\")\n",
    "        for inputs, labels in val_pbar:\n",
    "            inputs = inputs.to(device)\n",
    "            labels = labels.to(device)\n",
    "            outputs = model(inputs)\n",
    "\n",
    "            loss = criterion(outputs, labels)\n",
    "            val_loss += loss.item() * inputs.size(0)\n",
    "            _, preds = torch.max(outputs, 1)\n",
    "            val_corrects += torch.sum(preds == labels)\n",
    "\n",
    "    val_loss = val_loss / len(test_ds)\n",
    "    val_acc = val_corrects.double() / len(test_ds)\n",
    "\n",
    "    print(f\"\\nEpoch {epoch+1}/{num_epochs} \"\n",
    "          f\"train_loss={epoch_loss:.4f} train_acc={epoch_acc:.4f} \"\n",
    "          f\"val_loss={val_loss:.4f} val_acc={val_acc:.4f}\")\n",
    "\n",
    "    scheduler.step(val_loss)\n",
    "\n",
    "    if val_loss < best_val_loss:\n",
    "        best_val_loss = val_loss\n",
    "        torch.save(model.state_dict(), \"best_brain_tumor_resnet18.pth\")\n",
    "        print(\"Saved best model.\")\n"
   ]
  },
  {
   "cell_type": "code",
   "execution_count": null,
   "metadata": {},
   "outputs": [],
   "source": [
    "model.load_state_dict(torch.load(\"best_brain_tumor_resnet18.pth\"))\n",
    "model.eval()\n",
    "test_corrects=0\n",
    "total=0\n",
    "\n",
    "with torch.no_grad():\n",
    "    for inputs,labels in test_loader:\n",
    "        inputs=inputs.to(device)\n",
    "        labels=labels.to(device)\n",
    "        outputs=model(inputs)\n",
    "        _,preds=torch.max(outputs,1)\n",
    "        test_corrects+=torch.sum(preds==labels.data)\n",
    "        total+=labels.size(0)\n",
    "\n",
    "test_acc=test_corrects.double()/total\n",
    "print(\"Test accuracy:\", test_acc.item())"
   ]
  }
 ],
 "metadata": {
  "kernelspec": {
   "display_name": "dl-gpu",
   "language": "python",
   "name": "python3"
  },
  "language_info": {
   "codemirror_mode": {
    "name": "ipython",
    "version": 3
   },
   "file_extension": ".py",
   "mimetype": "text/x-python",
   "name": "python",
   "nbconvert_exporter": "python",
   "pygments_lexer": "ipython3",
   "version": "3.11.13"
  }
 },
 "nbformat": 4,
 "nbformat_minor": 2
}
